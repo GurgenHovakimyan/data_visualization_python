{
 "cells": [
  {
   "cell_type": "code",
   "execution_count": 1,
   "metadata": {
    "ExecuteTime": {
     "end_time": "2021-03-08T11:06:49.210631Z",
     "start_time": "2021-03-08T11:06:46.435411Z"
    }
   },
   "outputs": [],
   "source": [
    "import numpy as np\n",
    "import pandas as pd\n",
    "import matplotlib.pyplot as plt"
   ]
  },
  {
   "cell_type": "code",
   "execution_count": 2,
   "metadata": {
    "ExecuteTime": {
     "end_time": "2021-03-08T11:06:49.241636Z",
     "start_time": "2021-03-08T11:06:49.214884Z"
    }
   },
   "outputs": [],
   "source": [
    "df = pd.read_csv(\"weather-check.csv\")"
   ]
  },
  {
   "cell_type": "code",
   "execution_count": 3,
   "metadata": {
    "ExecuteTime": {
     "end_time": "2021-03-08T11:06:49.328535Z",
     "start_time": "2021-03-08T11:06:49.246101Z"
    }
   },
   "outputs": [],
   "source": [
    "df[df.select_dtypes(['object']).columns] =\\\n",
    "    df.select_dtypes(['object']).apply(lambda x: x.astype('category'))"
   ]
  },
  {
   "cell_type": "code",
   "execution_count": 4,
   "metadata": {
    "ExecuteTime": {
     "end_time": "2021-03-08T11:06:49.357196Z",
     "start_time": "2021-03-08T11:06:49.331528Z"
    }
   },
   "outputs": [],
   "source": [
    "df = df.replace(\"-\", np.NaN)"
   ]
  },
  {
   "cell_type": "code",
   "execution_count": 5,
   "metadata": {
    "ExecuteTime": {
     "end_time": "2021-03-08T11:06:49.372579Z",
     "start_time": "2021-03-08T11:06:49.360817Z"
    }
   },
   "outputs": [],
   "source": [
    "df.columns = [\"ID\", \"Report_Check\", \"Check_Type\", \"App_Website\",\n",
    "              \"Smart_Watch_Use\", \"Age\", \"Gender\", \"Income\", \"Region\"]"
   ]
  },
  {
   "cell_type": "code",
   "execution_count": 6,
   "metadata": {
    "ExecuteTime": {
     "end_time": "2021-03-08T11:06:49.416623Z",
     "start_time": "2021-03-08T11:06:49.375576Z"
    }
   },
   "outputs": [
    {
     "data": {
      "text/html": [
       "<div>\n",
       "<style scoped>\n",
       "    .dataframe tbody tr th:only-of-type {\n",
       "        vertical-align: middle;\n",
       "    }\n",
       "\n",
       "    .dataframe tbody tr th {\n",
       "        vertical-align: top;\n",
       "    }\n",
       "\n",
       "    .dataframe thead th {\n",
       "        text-align: right;\n",
       "    }\n",
       "</style>\n",
       "<table border=\"1\" class=\"dataframe\">\n",
       "  <thead>\n",
       "    <tr style=\"text-align: right;\">\n",
       "      <th></th>\n",
       "      <th>ID</th>\n",
       "      <th>Report_Check</th>\n",
       "      <th>Check_Type</th>\n",
       "      <th>App_Website</th>\n",
       "      <th>Smart_Watch_Use</th>\n",
       "      <th>Age</th>\n",
       "      <th>Gender</th>\n",
       "      <th>Income</th>\n",
       "      <th>Region</th>\n",
       "    </tr>\n",
       "  </thead>\n",
       "  <tbody>\n",
       "    <tr>\n",
       "      <th>0</th>\n",
       "      <td>3887201482</td>\n",
       "      <td>Yes</td>\n",
       "      <td>The default weather app on your phone</td>\n",
       "      <td>NaN</td>\n",
       "      <td>Very likely</td>\n",
       "      <td>30 - 44</td>\n",
       "      <td>Male</td>\n",
       "      <td>$50,000 to $74,999</td>\n",
       "      <td>South Atlantic</td>\n",
       "    </tr>\n",
       "    <tr>\n",
       "      <th>1</th>\n",
       "      <td>3887159451</td>\n",
       "      <td>Yes</td>\n",
       "      <td>The default weather app on your phone</td>\n",
       "      <td>NaN</td>\n",
       "      <td>Very likely</td>\n",
       "      <td>18 - 29</td>\n",
       "      <td>Male</td>\n",
       "      <td>Prefer not to answer</td>\n",
       "      <td>NaN</td>\n",
       "    </tr>\n",
       "    <tr>\n",
       "      <th>2</th>\n",
       "      <td>3887152228</td>\n",
       "      <td>Yes</td>\n",
       "      <td>The default weather app on your phone</td>\n",
       "      <td>NaN</td>\n",
       "      <td>Very likely</td>\n",
       "      <td>30 - 44</td>\n",
       "      <td>Male</td>\n",
       "      <td>$100,000 to $124,999</td>\n",
       "      <td>Middle Atlantic</td>\n",
       "    </tr>\n",
       "    <tr>\n",
       "      <th>3</th>\n",
       "      <td>3887145426</td>\n",
       "      <td>Yes</td>\n",
       "      <td>The default weather app on your phone</td>\n",
       "      <td>NaN</td>\n",
       "      <td>Somewhat likely</td>\n",
       "      <td>30 - 44</td>\n",
       "      <td>Male</td>\n",
       "      <td>Prefer not to answer</td>\n",
       "      <td>NaN</td>\n",
       "    </tr>\n",
       "    <tr>\n",
       "      <th>4</th>\n",
       "      <td>3887021873</td>\n",
       "      <td>Yes</td>\n",
       "      <td>A specific website or app (please provide the ...</td>\n",
       "      <td>Iphone app</td>\n",
       "      <td>Very likely</td>\n",
       "      <td>30 - 44</td>\n",
       "      <td>Male</td>\n",
       "      <td>$150,000 to $174,999</td>\n",
       "      <td>Middle Atlantic</td>\n",
       "    </tr>\n",
       "  </tbody>\n",
       "</table>\n",
       "</div>"
      ],
      "text/plain": [
       "           ID Report_Check                                         Check_Type  \\\n",
       "0  3887201482          Yes              The default weather app on your phone   \n",
       "1  3887159451          Yes              The default weather app on your phone   \n",
       "2  3887152228          Yes              The default weather app on your phone   \n",
       "3  3887145426          Yes              The default weather app on your phone   \n",
       "4  3887021873          Yes  A specific website or app (please provide the ...   \n",
       "\n",
       "  App_Website  Smart_Watch_Use      Age Gender                Income  \\\n",
       "0         NaN      Very likely  30 - 44   Male    $50,000 to $74,999   \n",
       "1         NaN      Very likely  18 - 29   Male  Prefer not to answer   \n",
       "2         NaN      Very likely  30 - 44   Male  $100,000 to $124,999   \n",
       "3         NaN  Somewhat likely  30 - 44   Male  Prefer not to answer   \n",
       "4  Iphone app      Very likely  30 - 44   Male  $150,000 to $174,999   \n",
       "\n",
       "            Region  \n",
       "0   South Atlantic  \n",
       "1              NaN  \n",
       "2  Middle Atlantic  \n",
       "3              NaN  \n",
       "4  Middle Atlantic  "
      ]
     },
     "execution_count": 6,
     "metadata": {},
     "output_type": "execute_result"
    }
   ],
   "source": [
    "df.head()"
   ]
  },
  {
   "cell_type": "code",
   "execution_count": 7,
   "metadata": {
    "ExecuteTime": {
     "end_time": "2021-03-08T11:06:49.458962Z",
     "start_time": "2021-03-08T11:06:49.424198Z"
    }
   },
   "outputs": [],
   "source": [
    "df.dropna(inplace = True)"
   ]
  },
  {
   "cell_type": "code",
   "execution_count": 8,
   "metadata": {
    "ExecuteTime": {
     "end_time": "2021-03-08T11:06:49.474627Z",
     "start_time": "2021-03-08T11:06:49.463526Z"
    }
   },
   "outputs": [],
   "source": [
    "df = df.reset_index(drop = True)"
   ]
  },
  {
   "cell_type": "code",
   "execution_count": 9,
   "metadata": {
    "ExecuteTime": {
     "end_time": "2021-03-08T11:06:49.487221Z",
     "start_time": "2021-03-08T11:06:49.477965Z"
    }
   },
   "outputs": [],
   "source": [
    "df_vis = df[[\"Smart_Watch_Use\", \"Age\"]].copy()"
   ]
  },
  {
   "cell_type": "code",
   "execution_count": 10,
   "metadata": {
    "ExecuteTime": {
     "end_time": "2021-03-08T11:06:49.610692Z",
     "start_time": "2021-03-08T11:06:49.491468Z"
    }
   },
   "outputs": [
    {
     "data": {
      "text/html": [
       "<div>\n",
       "<style scoped>\n",
       "    .dataframe tbody tr th:only-of-type {\n",
       "        vertical-align: middle;\n",
       "    }\n",
       "\n",
       "    .dataframe tbody tr th {\n",
       "        vertical-align: top;\n",
       "    }\n",
       "\n",
       "    .dataframe thead th {\n",
       "        text-align: right;\n",
       "    }\n",
       "</style>\n",
       "<table border=\"1\" class=\"dataframe\">\n",
       "  <thead>\n",
       "    <tr style=\"text-align: right;\">\n",
       "      <th></th>\n",
       "      <th>Somewhat likely</th>\n",
       "      <th>Somewhat unlikely</th>\n",
       "      <th>Very likely</th>\n",
       "      <th>Very unlikely</th>\n",
       "    </tr>\n",
       "  </thead>\n",
       "  <tbody>\n",
       "    <tr>\n",
       "      <th>18 - 29</th>\n",
       "      <td>11.0</td>\n",
       "      <td>0.0</td>\n",
       "      <td>14.0</td>\n",
       "      <td>3.0</td>\n",
       "    </tr>\n",
       "    <tr>\n",
       "      <th>30 - 44</th>\n",
       "      <td>18.0</td>\n",
       "      <td>1.0</td>\n",
       "      <td>16.0</td>\n",
       "      <td>9.0</td>\n",
       "    </tr>\n",
       "    <tr>\n",
       "      <th>45 - 59</th>\n",
       "      <td>12.0</td>\n",
       "      <td>3.0</td>\n",
       "      <td>30.0</td>\n",
       "      <td>11.0</td>\n",
       "    </tr>\n",
       "    <tr>\n",
       "      <th>60+</th>\n",
       "      <td>10.0</td>\n",
       "      <td>4.0</td>\n",
       "      <td>21.0</td>\n",
       "      <td>10.0</td>\n",
       "    </tr>\n",
       "  </tbody>\n",
       "</table>\n",
       "</div>"
      ],
      "text/plain": [
       "         Somewhat likely  Somewhat unlikely  Very likely  Very unlikely\n",
       "18 - 29             11.0                0.0         14.0            3.0\n",
       "30 - 44             18.0                1.0         16.0            9.0\n",
       "45 - 59             12.0                3.0         30.0           11.0\n",
       "60+                 10.0                4.0         21.0           10.0"
      ]
     },
     "execution_count": 10,
     "metadata": {},
     "output_type": "execute_result"
    }
   ],
   "source": [
    "abs_df = pd.crosstab(df['Age'], df_vis['Smart_Watch_Use'])\n",
    "last_df = pd.DataFrame()\n",
    "for i in range(len(abs_df)):\n",
    "    row = abs_df.iloc[i]\n",
    "    last_df = last_df.append(row)\n",
    "last_df"
   ]
  },
  {
   "cell_type": "code",
   "execution_count": 11,
   "metadata": {
    "ExecuteTime": {
     "end_time": "2021-03-08T11:06:49.746815Z",
     "start_time": "2021-03-08T11:06:49.614006Z"
    }
   },
   "outputs": [
    {
     "data": {
      "text/html": [
       "<div>\n",
       "<style scoped>\n",
       "    .dataframe tbody tr th:only-of-type {\n",
       "        vertical-align: middle;\n",
       "    }\n",
       "\n",
       "    .dataframe tbody tr th {\n",
       "        vertical-align: top;\n",
       "    }\n",
       "\n",
       "    .dataframe thead th {\n",
       "        text-align: right;\n",
       "    }\n",
       "</style>\n",
       "<table border=\"1\" class=\"dataframe\">\n",
       "  <thead>\n",
       "    <tr style=\"text-align: right;\">\n",
       "      <th></th>\n",
       "      <th>Somewhat likely</th>\n",
       "      <th>Somewhat unlikely</th>\n",
       "      <th>Very likely</th>\n",
       "      <th>Very unlikely</th>\n",
       "    </tr>\n",
       "  </thead>\n",
       "  <tbody>\n",
       "    <tr>\n",
       "      <th>18 - 29</th>\n",
       "      <td>39.29</td>\n",
       "      <td>0.00</td>\n",
       "      <td>50.00</td>\n",
       "      <td>10.71</td>\n",
       "    </tr>\n",
       "    <tr>\n",
       "      <th>30 - 44</th>\n",
       "      <td>40.91</td>\n",
       "      <td>2.27</td>\n",
       "      <td>36.36</td>\n",
       "      <td>20.45</td>\n",
       "    </tr>\n",
       "    <tr>\n",
       "      <th>45 - 59</th>\n",
       "      <td>21.43</td>\n",
       "      <td>5.36</td>\n",
       "      <td>53.57</td>\n",
       "      <td>19.64</td>\n",
       "    </tr>\n",
       "    <tr>\n",
       "      <th>60+</th>\n",
       "      <td>22.22</td>\n",
       "      <td>8.89</td>\n",
       "      <td>46.67</td>\n",
       "      <td>22.22</td>\n",
       "    </tr>\n",
       "  </tbody>\n",
       "</table>\n",
       "</div>"
      ],
      "text/plain": [
       "         Somewhat likely  Somewhat unlikely  Very likely  Very unlikely\n",
       "18 - 29            39.29               0.00        50.00          10.71\n",
       "30 - 44            40.91               2.27        36.36          20.45\n",
       "45 - 59            21.43               5.36        53.57          19.64\n",
       "60+                22.22               8.89        46.67          22.22"
      ]
     },
     "execution_count": 11,
     "metadata": {},
     "output_type": "execute_result"
    }
   ],
   "source": [
    "perc_df = pd.crosstab(df['Age'], df_vis['Smart_Watch_Use']).apply(lambda x: round(x/x.sum() * 100, 2), axis=1)\n",
    "last_df_perc = pd.DataFrame()\n",
    "for i in range(len(perc_df)):\n",
    "    row = perc_df.iloc[i]\n",
    "    last_df_perc = last_df_perc.append(row)\n",
    "last_df_perc"
   ]
  },
  {
   "cell_type": "code",
   "execution_count": 12,
   "metadata": {
    "ExecuteTime": {
     "end_time": "2021-03-08T11:06:50.501947Z",
     "start_time": "2021-03-08T11:06:49.749536Z"
    }
   },
   "outputs": [
    {
     "data": {
      "image/png": "[encoded data removed]",
      "text/plain": [
       "<Figure size 1440x720 with 1 Axes>"
      ]
     },
     "metadata": {
      "needs_background": "light"
     },
     "output_type": "display_data"
    }
   ],
   "source": [
    "last_df_perc.plot(kind = 'barh', stacked = True, figsize=(20, 10))\n",
    "\n",
    "pos_values = []\n",
    "for i in range(last_df_perc.shape[0]):\n",
    "    a = np.cumsum(last_df_perc.iloc[i]).values\n",
    "    pos_values.append(a)\n",
    "\n",
    "plt.text(2, 0, last_df_perc.iloc[0][0])\n",
    "plt.text(2, 1, last_df_perc.iloc[1][0])\n",
    "plt.text(2, 2, last_df_perc.iloc[2][0])\n",
    "plt.text(2, 3, last_df_perc.iloc[3][0])\n",
    "\n",
    "for i in range(last_df_perc.shape[1]):\n",
    "    for j in range(1, last_df_perc.shape[0]):\n",
    "        plt.text(pos_values[i][j-1], i, last_df_perc.iloc[i][j]);"
   ]
  },
  {
   "cell_type": "code",
   "execution_count": 13,
   "metadata": {
    "ExecuteTime": {
     "end_time": "2021-03-08T11:06:51.340369Z",
     "start_time": "2021-03-08T11:06:50.508003Z"
    }
   },
   "outputs": [
    {
     "data": {
      "image/png": "[encoded data removed]",
      "text/plain": [
       "<Figure size 1440x720 with 1 Axes>"
      ]
     },
     "metadata": {
      "needs_background": "light"
     },
     "output_type": "display_data"
    }
   ],
   "source": [
    "last_df.plot(kind = 'barh', stacked = True, figsize=(20, 10))\n",
    "\n",
    "pos_values = []\n",
    "for i in range(last_df.shape[0]):\n",
    "    a = np.cumsum(last_df.iloc[i]).values\n",
    "    pos_values.append(a)\n",
    "\n",
    "plt.text(2, 0, last_df.iloc[0][0])\n",
    "plt.text(2, 1, last_df.iloc[1][0])\n",
    "plt.text(2, 2, last_df.iloc[2][0])\n",
    "plt.text(2, 3, last_df.iloc[3][0])\n",
    "\n",
    "for i in range(last_df_perc.shape[1]):\n",
    "    for j in range(1, last_df_perc.shape[0]):\n",
    "        plt.text(pos_values[i][j-1], i, last_df.iloc[i][j]);"
   ]
  },
  {
   "cell_type": "code",
   "execution_count": 14,
   "metadata": {
    "ExecuteTime": {
     "end_time": "2021-03-08T11:06:51.397614Z",
     "start_time": "2021-03-08T11:06:51.348460Z"
    }
   },
   "outputs": [],
   "source": [
    "def survey(results, category_names):\n",
    "    \"\"\"\n",
    "    Parameters\n",
    "    ----------\n",
    "    results : dict\n",
    "        A mapping from question labels to a list of answers per category.\n",
    "        It is assumed all lists contain the same number of entries and that\n",
    "        it matches the length of *category_names*.\n",
    "    category_names : list of str\n",
    "        The category labels.\n",
    "    \"\"\"\n",
    "    labels = list(results.keys())\n",
    "    data = np.array(list(results.values()))\n",
    "    data_cum = data.cumsum(axis=1)\n",
    "    category_colors = plt.get_cmap('RdYlGn')(\n",
    "        np.linspace(0.15, 0.85, data.shape[1]))\n",
    "\n",
    "    fig, ax = plt.subplots(figsize=(9.2, 5))\n",
    "    ax.invert_yaxis()\n",
    "    ax.xaxis.set_visible(False)\n",
    "    ax.set_xlim(0, np.sum(data, axis=1).max())\n",
    "\n",
    "    for i, (colname, color) in enumerate(zip(category_names, category_colors)):\n",
    "        widths = data[:, i]\n",
    "        starts = data_cum[:, i] - widths\n",
    "        ax.barh(labels, widths, left=starts, height=0.5,\n",
    "                label=colname, color=color)\n",
    "        xcenters = starts + widths / 2\n",
    "\n",
    "        r, g, b, _ = color\n",
    "        text_color = 'white' if r * g * b < 0.5 else 'darkgrey'\n",
    "        for y, (x, c) in enumerate(zip(xcenters, widths)):\n",
    "            ax.text(x, y, str(int(c)), ha='center', va='center',\n",
    "                    color=text_color)\n",
    "    ax.legend(ncol=len(category_names), bbox_to_anchor=(0, 1),\n",
    "              loc='lower left', fontsize='small')\n",
    "\n",
    "    return fig, ax"
   ]
  },
  {
   "cell_type": "code",
   "execution_count": 15,
   "metadata": {
    "ExecuteTime": {
     "end_time": "2021-03-08T11:06:51.528462Z",
     "start_time": "2021-03-08T11:06:51.407538Z"
    }
   },
   "outputs": [],
   "source": [
    "dict_abs = last_df.T.to_dict('list')\n",
    "dict_perc = last_df_perc.T.to_dict('list')\n",
    "categories = list(last_df.columns.values)"
   ]
  },
  {
   "cell_type": "code",
   "execution_count": 16,
   "metadata": {
    "ExecuteTime": {
     "end_time": "2021-03-08T11:06:52.589616Z",
     "start_time": "2021-03-08T11:06:51.534622Z"
    }
   },
   "outputs": [
    {
     "data": {
      "image/png": "[encoded data removed]",
      "text/plain": [
       "<Figure size 662.4x360 with 1 Axes>"
      ]
     },
     "metadata": {
      "needs_background": "light"
     },
     "output_type": "display_data"
    }
   ],
   "source": [
    "survey(dict_abs, categories);"
   ]
  },
  {
   "cell_type": "code",
   "execution_count": 17,
   "metadata": {
    "ExecuteTime": {
     "end_time": "2021-03-08T11:06:53.626069Z",
     "start_time": "2021-03-08T11:06:52.600544Z"
    }
   },
   "outputs": [
    {
     "data": {
      "image/png": "[encoded data removed]",
      "text/plain": [
       "<Figure size 662.4x360 with 1 Axes>"
      ]
     },
     "metadata": {
      "needs_background": "light"
     },
     "output_type": "display_data"
    }
   ],
   "source": [
    "survey(dict_perc, categories);"
   ]
  },
  {
   "cell_type": "code",
   "execution_count": 18,
   "metadata": {
    "ExecuteTime": {
     "end_time": "2021-03-08T11:06:55.618263Z",
     "start_time": "2021-03-08T11:06:53.631682Z"
    }
   },
   "outputs": [
    {
     "data": {
      "image/png": "[encoded data removed]",
      "text/plain": [
       "<Figure size 1440x720 with 2 Axes>"
      ]
     },
     "metadata": {
      "needs_background": "light"
     },
     "output_type": "display_data"
    },
    {
     "data": {
      "image/png": "[encoded data removed]",
      "text/plain": [
       "<Figure size 1440x360 with 1 Axes>"
      ]
     },
     "metadata": {
      "needs_background": "light"
     },
     "output_type": "display_data"
    }
   ],
   "source": [
    "fig, ax = plt.subplots(ncols=2, nrows=1, figsize=(20, 10))\n",
    "fig2, ax2 = plt.subplots(1, 1, figsize=(20, 5))\n",
    "\n",
    "# first plot\n",
    "labels = list(dict_perc.keys())\n",
    "data = np.array(list(dict_perc.values()))\n",
    "data_cum = data.cumsum(axis=1)\n",
    "category_colors = plt.get_cmap('RdYlGn')(\n",
    "    np.linspace(0.15, 0.85, data.shape[1]))\n",
    "ax[0].invert_yaxis()\n",
    "ax[0].xaxis.set_visible(False)\n",
    "ax[0].set_xlim(0, np.sum(data, axis=1).max())\n",
    "\n",
    "for i, (colname, color) in enumerate(zip(categories, category_colors)):\n",
    "    widths = data[:, i]\n",
    "    starts = data_cum[:, i] - widths\n",
    "    ax[0].barh(labels, widths, left=starts, height=0.5,\n",
    "            label=colname, color=color)\n",
    "    xcenters = starts + widths / 2\n",
    "    r, g, b, _ = color\n",
    "    text_color = 'white' if r * g * b < 0.5 else 'darkgrey'\n",
    "    for y, (x, c) in enumerate(zip(xcenters, widths)):\n",
    "        ax[0].text(x, y, str(int(c)), ha='center', va='center',\n",
    "                color=text_color)\n",
    "    ax[0].legend(ncol=len(categories), bbox_to_anchor=(0, 1),\n",
    "              loc='lower left', fontsize='small')\n",
    "    \n",
    "# second plot\n",
    "\n",
    "labels = list(dict_abs.keys())\n",
    "data = np.array(list(dict_abs.values()))\n",
    "data_cum = data.cumsum(axis=1)\n",
    "category_colors = plt.get_cmap('RdYlGn')(\n",
    "    np.linspace(0.15, 0.85, data.shape[1]))\n",
    "ax[1].invert_yaxis()\n",
    "ax[1].xaxis.set_visible(False)\n",
    "ax[1].set_xlim(0, np.sum(data, axis=1).max())\n",
    "\n",
    "for i, (colname, color) in enumerate(zip(categories, category_colors)):\n",
    "    widths = data[:, i]\n",
    "    starts = data_cum[:, i] - widths\n",
    "    ax[1].barh(labels, widths, left=starts, height=0.5,\n",
    "            label=colname, color=color)\n",
    "    xcenters = starts + widths / 2\n",
    "    r, g, b, _ = color\n",
    "    text_color = 'white' if r * g * b < 0.5 else 'darkgrey'\n",
    "    for y, (x, c) in enumerate(zip(xcenters, widths)):\n",
    "        ax[1].text(x, y, str(int(c)), ha='center', va='center',\n",
    "                color=text_color)\n",
    "    ax[1].legend(ncol=len(categories), bbox_to_anchor=(0, 1),\n",
    "              loc='lower left', fontsize='small')\n",
    "    \n",
    "# plot 3\n",
    "ax2.text(0.05, 0.8,'We can see that proportionally people answered similar', fontsize = 20);\n",
    "ax2.text(0.21,0.4,'In absolute value we see some there is differecies quantity of people in subgroups.', fontsize = 20);"
   ]
  },
  {
   "cell_type": "code",
   "execution_count": null,
   "metadata": {},
   "outputs": [],
   "source": []
  }
 ],
 "metadata": {
  "hide_input": false,
  "kernelspec": {
   "display_name": "Python 3",
   "language": "python",
   "name": "python3"
  },
  "language_info": {
   "codemirror_mode": {
    "name": "ipython",
    "version": 3
   },
   "file_extension": ".py",
   "mimetype": "text/x-python",
   "name": "python",
   "nbconvert_exporter": "python",
   "pygments_lexer": "ipython3",
   "version": "3.8.5"
  },
  "toc": {
   "base_numbering": 1,
   "nav_menu": {},
   "number_sections": true,
   "sideBar": true,
   "skip_h1_title": false,
   "title_cell": "Table of Contents",
   "title_sidebar": "Contents",
   "toc_cell": false,
   "toc_position": {},
   "toc_section_display": true,
   "toc_window_display": false
  },
  "varInspector": {
   "cols": {
    "lenName": 16,
    "lenType": 16,
    "lenVar": 40
   },
   "kernels_config": {
    "python": {
     "delete_cmd_postfix": "",
     "delete_cmd_prefix": "del ",
     "library": "var_list.py",
     "varRefreshCmd": "print(var_dic_list())"
    },
    "r": {
     "delete_cmd_postfix": ") ",
     "delete_cmd_prefix": "rm(",
     "library": "var_list.r",
     "varRefreshCmd": "cat(var_dic_list()) "
    }
   },
   "types_to_exclude": [
    "module",
    "function",
    "builtin_function_or_method",
    "instance",
    "_Feature"
   ],
   "window_display": false
  }
 },
 "nbformat": 4,
 "nbformat_minor": 4
}
